{
 "cells": [
  {
   "cell_type": "code",
   "execution_count": 14,
   "id": "bd49529d",
   "metadata": {},
   "outputs": [],
   "source": [
    "import os\n",
    "import json\n",
    "import glob\n",
    "from concurrent.futures import ProcessPoolExecutor, as_completed\n",
    "import soundfile as sf\n",
    "\n",
    "def process_wav(wav_file):\n",
    "    if not wav_file.endswith('.wav'):\n",
    "        return None\n",
    "\n",
    "    # derive ID and absolute paths\n",
    "    ytb_id       = os.path.basename(wav_file).rsplit('_no_vocals.wav', 1)[0]\n",
    "    print(ytb_id)\n",
    "    wav_path     = os.path.join(wav_dir, wav_file)\n",
    "    mp4_path     = os.path.join(mp4_dir, f\"{ytb_id}.mp4\")\n",
    "    wav_abs, mp4_abs = os.path.abspath(wav_path), os.path.abspath(mp4_path)\n",
    "    print(wav_abs, mp4_abs)\n",
    "    # skip missing files\n",
    "    if not os.path.isfile(wav_abs) or not os.path.isfile(mp4_abs):\n",
    "        return None\n",
    "\n",
    "    try:\n",
    "        info     = sf.info(wav_abs)\n",
    "        duration = info.frames / info.samplerate\n",
    "        sr       = info.samplerate\n",
    "\n",
    "        return {\n",
    "            \"path\":       wav_abs,\n",
    "            \"video_path\": mp4_abs,\n",
    "            \"duration\":   duration,\n",
    "            \"sample_rate\":sr,\n",
    "            \"amplitude\":  None,\n",
    "            \"weight\":     None,\n",
    "            \"info_path\":  None\n",
    "        }\n",
    "    except Exception:\n",
    "        return None"
   ]
  },
  {
   "cell_type": "code",
   "execution_count": 11,
   "id": "241fb733",
   "metadata": {},
   "outputs": [],
   "source": [
    "wav_dir       = '/work/users/t/i/tis/V2Music/preprocessing/bg_audio/mdx_extra'\n",
    "mp4_dir       = '/work/users/t/i/tis/V2Music/preprocessing/data/video'\n",
    "wav_list = glob.glob(os.path.join(wav_dir, '*.wav'))"
   ]
  },
  {
   "cell_type": "code",
   "execution_count": 15,
   "id": "9f27e1b6",
   "metadata": {},
   "outputs": [
    {
     "name": "stdout",
     "output_type": "stream",
     "text": [
      "--gdB-nnQkU\n",
      "/work/users/t/i/tis/V2Music/preprocessing/bg_audio/mdx_extra/--gdB-nnQkU_no_vocals.wav /work/users/t/i/tis/V2Music/preprocessing/data/video/--gdB-nnQkU.mp4\n",
      "{'path': '/work/users/t/i/tis/V2Music/preprocessing/bg_audio/mdx_extra/--gdB-nnQkU_no_vocals.wav', 'video_path': '/work/users/t/i/tis/V2Music/preprocessing/data/video/--gdB-nnQkU.mp4', 'duration': 29.993514739229024, 'sample_rate': 44100, 'amplitude': None, 'weight': None, 'info_path': None}\n"
     ]
    }
   ],
   "source": [
    "print(process_wav(wav_list[2]))"
   ]
  }
 ],
 "metadata": {
  "kernelspec": {
   "display_name": "v2music",
   "language": "python",
   "name": "v2music"
  },
  "language_info": {
   "codemirror_mode": {
    "name": "ipython",
    "version": 3
   },
   "file_extension": ".py",
   "mimetype": "text/x-python",
   "name": "python",
   "nbconvert_exporter": "python",
   "pygments_lexer": "ipython3",
   "version": "3.12.9"
  }
 },
 "nbformat": 4,
 "nbformat_minor": 5
}
