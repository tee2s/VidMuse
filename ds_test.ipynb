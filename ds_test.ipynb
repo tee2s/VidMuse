{
 "cells": [
  {
   "cell_type": "code",
   "execution_count": 1,
   "id": "57efc0ed",
   "metadata": {},
   "outputs": [
    {
     "name": "stdout",
     "output_type": "stream",
     "text": [
      "Batch Size: 2\n",
      "Num Worker: 0\n"
     ]
    }
   ],
   "source": [
    "from omegaconf import OmegaConf\n",
    "cfg = OmegaConf.load(\"/work/users/t/i/tis/VidMuse/output/VidMuse/xps/31a205cf/.hydra/config.yaml\")\n",
    "cfg.dataset.batch_size = 2\n",
    "cfg.dataset.num_workers = 0\n",
    "print(\"Batch Size:\", cfg.dataset.batch_size)\n",
    "print(\"Num Worker:\", cfg.dataset.num_workers)"
   ]
  },
  {
   "cell_type": "code",
   "execution_count": 2,
   "id": "02ebf027",
   "metadata": {},
   "outputs": [],
   "source": [
    "#print(OmegaConf.to_yaml(cfg, resolve=True))"
   ]
  },
  {
   "cell_type": "code",
   "execution_count": 2,
   "id": "3bd15d1b",
   "metadata": {},
   "outputs": [
    {
     "name": "stdout",
     "output_type": "stream",
     "text": [
      "num_workers in builder: 0\n",
      "Using 0 and 2 for data loading\n",
      "num_workers in builder: 0\n",
      "Using 0 and 2 for data loading\n",
      "num_workers in builder: 0\n",
      "Using 0 and 2 for data loading\n",
      "num_workers in builder: 0\n",
      "Using 0 and 2 for data loading\n",
      "dict_keys(['train', 'valid', 'evaluate', 'generate'])\n"
     ]
    }
   ],
   "source": [
    "from audiocraft.solvers import builders\n",
    "dataloaders = builders.get_audio_datasets(cfg, dataset_type=builders.DatasetType.MUSIC)\n",
    "print(dataloaders.keys())"
   ]
  },
  {
   "cell_type": "code",
   "execution_count": 3,
   "id": "d30f3a56",
   "metadata": {},
   "outputs": [
    {
     "name": "stdout",
     "output_type": "stream",
     "text": [
      "/work/users/t/i/tis/V2Music/preprocessing/data/video/4kfcavmHAJs.mp4\n",
      "fps=25.00, total_frames=750\n",
      "video frames: 58\n",
      "flow frames: 117\n"
     ]
    },
    {
     "name": "stdout",
     "output_type": "stream",
     "text": [
      "video_tensor shape torch.Size([3, 58, 224, 224])\n",
      "flow_tensor shape torch.Size([1, 29, 224, 224])\n",
      "loading from here\n",
      "Called getitem of InfoAudioDataset\n",
      "Called getitem in MusicDataset\n",
      "/work/users/t/i/tis/V2Music/preprocessing/data/video/OtJn_T4uRI0.mp4\n",
      "fps=25.00, total_frames=751\n",
      "video frames: 58\n",
      "flow frames: 117\n",
      "video_tensor shape torch.Size([3, 58, 224, 224])\n",
      "flow_tensor shape torch.Size([1, 29, 224, 224])\n",
      "loading from here\n",
      "Called getitem of InfoAudioDataset\n",
      "Called getitem in MusicDataset\n"
     ]
    }
   ],
   "source": [
    "ld = dataloaders['train']\n",
    "it = iter(ld)\n",
    "batch = next(it)"
   ]
  },
  {
   "cell_type": "code",
   "execution_count": 6,
   "id": "84e3299c",
   "metadata": {},
   "outputs": [
    {
     "name": "stdout",
     "output_type": "stream",
     "text": [
      "/work/users/t/i/tis/V2Music/preprocessing/data/video/P2AOrZVDFd4.mp4\n",
      "fps=23.98, total_frames=721\n",
      "video frames: 58\n",
      "flow frames: 117\n",
      "video_tensor shape torch.Size([3, 58, 224, 224])\n",
      "flow_tensor shape torch.Size([1, 29, 224, 224])\n",
      "loading from here\n",
      "Called getitem of InfoAudioDataset\n",
      "Called getitem in MusicDataset\n",
      "/work/users/t/i/tis/V2Music/preprocessing/data/video/cBYii0xaLPg.mp4\n",
      "fps=30.00, total_frames=901\n",
      "video frames: 58\n",
      "flow frames: 117\n",
      "video_tensor shape torch.Size([3, 58, 224, 224])\n",
      "flow_tensor shape torch.Size([1, 29, 224, 224])\n",
      "loading from here\n",
      "Called getitem of InfoAudioDataset\n",
      "Called getitem in MusicDataset\n"
     ]
    },
    {
     "name": "stdout",
     "output_type": "stream",
     "text": [
      "/work/users/t/i/tis/V2Music/preprocessing/data/video/cBYii0xaLPg.mp4\n",
      "fps=30.00, total_frames=901\n",
      "video frames: 58\n",
      "flow frames: 117\n",
      "video_tensor shape torch.Size([3, 58, 224, 224])\n",
      "flow_tensor shape torch.Size([1, 29, 224, 224])\n",
      "loading from here\n",
      "Called getitem of InfoAudioDataset\n",
      "Called getitem in MusicDataset\n",
      "/work/users/t/i/tis/V2Music/preprocessing/data/video/4kfcavmHAJs.mp4\n",
      "fps=25.00, total_frames=750\n",
      "video frames: 58\n",
      "flow frames: 117\n",
      "video_tensor shape torch.Size([3, 58, 224, 224])\n",
      "flow_tensor shape torch.Size([1, 29, 224, 224])\n",
      "loading from here\n",
      "Called getitem of InfoAudioDataset\n",
      "Called getitem in MusicDataset\n",
      "/work/users/t/i/tis/V2Music/preprocessing/data/video/yqjz5xkww2Y.mp4\n",
      "fps=25.00, total_frames=751\n",
      "video frames: 58\n",
      "flow frames: 117\n",
      "video_tensor shape torch.Size([3, 58, 224, 224])\n",
      "flow_tensor shape torch.Size([1, 29, 224, 224])\n",
      "loading from here\n",
      "Called getitem of InfoAudioDataset\n",
      "Called getitem in MusicDataset\n",
      "/work/users/t/i/tis/V2Music/preprocessing/data/video/OtJn_T4uRI0.mp4\n",
      "fps=25.00, total_frames=751\n",
      "video frames: 58\n",
      "flow frames: 117\n",
      "video_tensor shape torch.Size([3, 58, 224, 224])\n",
      "flow_tensor shape torch.Size([1, 29, 224, 224])\n",
      "loading from here\n",
      "Called getitem of InfoAudioDataset\n",
      "Called getitem in MusicDataset\n",
      "/work/users/t/i/tis/V2Music/preprocessing/data/video/gfhGMyvhz90.mp4\n",
      "fps=24.00, total_frames=721\n",
      "video frames: 58\n",
      "flow frames: 117\n",
      "video_tensor shape torch.Size([3, 58, 224, 224])\n",
      "flow_tensor shape torch.Size([1, 29, 224, 224])\n",
      "loading from here\n",
      "Called getitem of InfoAudioDataset\n",
      "Called getitem in MusicDataset\n",
      "/work/users/t/i/tis/V2Music/preprocessing/data/video/LwVyLEU_20I.mp4\n",
      "fps=29.97, total_frames=901\n",
      "video frames: 58\n",
      "flow frames: 117\n",
      "video_tensor shape torch.Size([3, 58, 224, 224])\n",
      "flow_tensor shape torch.Size([1, 29, 224, 224])\n",
      "loading from here\n",
      "Called getitem of InfoAudioDataset\n",
      "Called getitem in MusicDataset\n",
      "/work/users/t/i/tis/V2Music/preprocessing/data/video/P2AOrZVDFd4.mp4\n",
      "fps=23.98, total_frames=721\n",
      "video frames: 58\n",
      "flow frames: 117\n",
      "video_tensor shape torch.Size([3, 58, 224, 224])\n",
      "flow_tensor shape torch.Size([1, 29, 224, 224])\n",
      "loading from here\n",
      "Called getitem of InfoAudioDataset\n",
      "Called getitem in MusicDataset\n",
      "/work/users/t/i/tis/V2Music/preprocessing/data/video/gfhGMyvhz90.mp4\n",
      "fps=24.00, total_frames=721\n",
      "video frames: 58\n",
      "flow frames: 117\n",
      "video_tensor shape torch.Size([3, 58, 224, 224])\n",
      "flow_tensor shape torch.Size([1, 29, 224, 224])\n",
      "loading from here\n",
      "Called getitem of InfoAudioDataset\n",
      "Called getitem in MusicDataset\n",
      "/work/users/t/i/tis/V2Music/preprocessing/data/video/cBYii0xaLPg.mp4\n",
      "fps=30.00, total_frames=901\n",
      "video frames: 58\n",
      "flow frames: 117\n",
      "video_tensor shape torch.Size([3, 58, 224, 224])\n",
      "flow_tensor shape torch.Size([1, 29, 224, 224])\n",
      "loading from here\n",
      "Called getitem of InfoAudioDataset\n",
      "Called getitem in MusicDataset\n",
      "/work/users/t/i/tis/V2Music/preprocessing/data/video/oetSKr6i7lI.mp4\n",
      "fps=29.97, total_frames=900\n",
      "video frames: 58\n",
      "flow frames: 117\n",
      "video_tensor shape torch.Size([3, 58, 224, 224])\n",
      "flow_tensor shape torch.Size([1, 29, 224, 224])\n",
      "loading from here\n",
      "Called getitem of InfoAudioDataset\n",
      "Called getitem in MusicDataset\n"
     ]
    }
   ],
   "source": [
    "ld = dataloaders['train']\n",
    "it = iter(ld)\n",
    "batch = next(it)"
   ]
  },
  {
   "cell_type": "code",
   "execution_count": 9,
   "id": "0ef15b7b",
   "metadata": {},
   "outputs": [],
   "source": [
    "batch2 = next(it)"
   ]
  },
  {
   "cell_type": "code",
   "execution_count": 6,
   "id": "6a5b03cc",
   "metadata": {},
   "outputs": [
    {
     "name": "stdout",
     "output_type": "stream",
     "text": [
      "batch_size: 2\n",
      "num_workers: 1\n"
     ]
    }
   ],
   "source": [
    "print(\"batch_size:\", ld.batch_size)\n",
    "print(\"num_workers:\", ld.num_workers)"
   ]
  },
  {
   "cell_type": "code",
   "execution_count": 16,
   "id": "a9f20ced",
   "metadata": {},
   "outputs": [
    {
     "name": "stdout",
     "output_type": "stream",
     "text": [
      "cfg 5\n"
     ]
    }
   ],
   "source": [
    "print(\"cfg\", cfg.generate.num_workers)"
   ]
  },
  {
   "cell_type": "code",
   "execution_count": 13,
   "id": "65d27c98",
   "metadata": {},
   "outputs": [
    {
     "ename": "AttributeError",
     "evalue": "'DataLoader' object has no attribute 'threads'",
     "output_type": "error",
     "traceback": [
      "\u001b[0;31m---------------------------------------------------------------------------\u001b[0m",
      "\u001b[0;31mAttributeError\u001b[0m                            Traceback (most recent call last)",
      "Cell \u001b[0;32mIn[13], line 1\u001b[0m\n\u001b[0;32m----> 1\u001b[0m \u001b[43mld\u001b[49m\u001b[38;5;241;43m.\u001b[39;49m\u001b[43mthreads\u001b[49m\n",
      "\u001b[0;31mAttributeError\u001b[0m: 'DataLoader' object has no attribute 'threads'"
     ]
    }
   ],
   "source": [
    "ld.threads"
   ]
  },
  {
   "cell_type": "code",
   "execution_count": 7,
   "id": "147197f4",
   "metadata": {},
   "outputs": [
    {
     "name": "stdout",
     "output_type": "stream",
     "text": [
      "<class 'torch.Tensor'> <class 'list'> <class 'list'>\n",
      "MusicInfo(meta=AudioMeta(path='/work/users/t/i/tis/V2Music/preprocessing/bg_audio/mdx_extra/OtJn_T4uRI0_no_vocals.wav', video_path='/work/users/t/i/tis/V2Music/preprocessing/data/video/OtJn_T4uRI0.mp4', duration=29.993514739229024, sample_rate=44100, amplitude=None, weight=None, info_path=None), seek_time=0, n_frames=928000, total_frames=928000, sample_rate=32000, channels=1, audio_tokens=None, title=None, artist=None, key=None, bpm=None, genre=None, moods=None, keywords=None, description=None, name=None, instrument=None, self_wav=WavCondition(wav=tensor([[[ 0.0015, -0.0002, -0.0007,  ..., -0.0072, -0.0072, -0.0087]]]), length=tensor([928000]), sample_rate=[32000], path=['/work/users/t/i/tis/V2Music/preprocessing/bg_audio/mdx_extra/OtJn_T4uRI0_no_vocals.wav'], seek_time=[0]), joint_embed={})\n",
      "MusicInfo(meta=AudioMeta(path='/work/users/t/i/tis/V2Music/preprocessing/bg_audio/mdx_extra/P2AOrZVDFd4_no_vocals.wav', video_path='/work/users/t/i/tis/V2Music/preprocessing/data/video/P2AOrZVDFd4.mp4', duration=29.993514739229024, sample_rate=44100, amplitude=None, weight=None, info_path=None), seek_time=0, n_frames=928000, total_frames=928000, sample_rate=32000, channels=1, audio_tokens=None, title=None, artist=None, key=None, bpm=None, genre=None, moods=None, keywords=None, description=None, name=None, instrument=None, self_wav=WavCondition(wav=tensor([[[ 0.0010,  0.0007, -0.0003,  ..., -0.0578, -0.0526, -0.0457]]]), length=tensor([928000]), sample_rate=[32000], path=['/work/users/t/i/tis/V2Music/preprocessing/bg_audio/mdx_extra/P2AOrZVDFd4_no_vocals.wav'], seek_time=[0]), joint_embed={})\n",
      "Audio Tensor torch.Size([2, 1, 928000])\n",
      "Video Tensor torch.Size([2, 3, 58, 224, 224])\n",
      "Flow Tensor torch.Size([2, 1, 29, 224, 224])\n"
     ]
    }
   ],
   "source": [
    "audio, video, info = batch\n",
    "print(type(audio), type(video), type(info))\n",
    "vids, flows = video\n",
    "v_infos, f_infos = info\n",
    "print(v_infos)\n",
    "print(f_infos)\n",
    "print(\"Audio Tensor\", audio.shape)\n",
    "print(\"Video Tensor\", vids.shape)\n",
    "print(\"Flow Tensor\", flows.shape)"
   ]
  },
  {
   "cell_type": "code",
   "execution_count": 2,
   "id": "37acec8c",
   "metadata": {},
   "outputs": [
    {
     "name": "stdout",
     "output_type": "stream",
     "text": [
      "cwd = /work/users/t/i/tis/VidMuse\n",
      "sys.path =\n",
      "/nas/longleaf/home/tis/.local/share/uv/python/cpython-3.9.21-linux-x86_64-gnu/lib/python39.zip\n",
      "/nas/longleaf/home/tis/.local/share/uv/python/cpython-3.9.21-linux-x86_64-gnu/lib/python3.9\n",
      "/nas/longleaf/home/tis/.local/share/uv/python/cpython-3.9.21-linux-x86_64-gnu/lib/python3.9/lib-dynload\n",
      "\n",
      "/work/users/t/i/tis/VidMuse/.venv/lib/python3.9/site-packages\n",
      "__editable__.vidmuse-0.1.0.finder.__path_hook__\n",
      "/work/users/t/i/tis/VidMuse\n",
      "/work/users/t/i/tis/VidMuse\n"
     ]
    }
   ],
   "source": [
    "import sys\n",
    "import os\n",
    "\n",
    "sys.path.append(\"/work/users/t/i/tis/VidMuse\")\n",
    "print(\"cwd =\", os.getcwd())\n",
    "print(\"sys.path =\")\n",
    "for p in sys.path:\n",
    "    print(p)"
   ]
  }
 ],
 "metadata": {
  "kernelspec": {
   "display_name": "vidmuse",
   "language": "python",
   "name": "vidmuse"
  },
  "language_info": {
   "codemirror_mode": {
    "name": "ipython",
    "version": 3
   },
   "file_extension": ".py",
   "mimetype": "text/x-python",
   "name": "python",
   "nbconvert_exporter": "python",
   "pygments_lexer": "ipython3",
   "version": "3.9.21"
  }
 },
 "nbformat": 4,
 "nbformat_minor": 5
}
