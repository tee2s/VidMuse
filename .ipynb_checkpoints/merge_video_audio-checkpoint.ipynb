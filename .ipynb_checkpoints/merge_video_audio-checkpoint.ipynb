{
 "cells": [
  {
   "cell_type": "code",
   "execution_count": 1,
   "id": "a920d1d7-f372-4fce-8bc1-7f4cfe1d6728",
   "metadata": {},
   "outputs": [],
   "source": [
    "from demos.VidMuse_app import merge_audio_video"
   ]
  },
  {
   "cell_type": "code",
   "execution_count": null,
   "id": "52691aee",
   "metadata": {},
   "outputs": [],
   "source": [
    "import json\n",
    "import os\n",
    "\n",
    "def load_media_map(jsonl_path: str, num_lines: int = None) -> dict:\n",
    "    \"\"\"\n",
    "    Reads up to `num_lines` from `jsonl_path` (one JSON object per line) and returns\n",
    "    a dict keyed by YouTube ID, with nested dicts for paths.\n",
    "    \"\"\"\n",
    "    media_map = {}\n",
    "    eval_results_folder = \"/work/users/t/i/tis/VidMuse/output/VidMuse/xps/our_final_eval_results/fad/tests\"\n",
    "    ablation_results_folder = \"/work/users/t/i/tis/VidMuse/output/VidMuse/xps/wo_of_eval/fad/tests\"\n",
    "    \n",
    "    with open(jsonl_path, 'r') as f:\n",
    "        for idx, line in enumerate(f):\n",
    "            if num_lines is not None and idx >= num_lines:\n",
    "                break\n",
    "\n",
    "            data = json.loads(line)\n",
    "            video_path = data[\"video_path\"]\n",
    "            audio_gt   = data[\"path\"]\n",
    "\n",
    "            yt_id = os.path.splitext(os.path.basename(video_path))[0]\n",
    "            media_map[yt_id] = {\n",
    "                \"video\":    video_path,\n",
    "                \"audio_gt\": audio_gt,\n",
    "                \"audio_gen\": f\"{eval_results_folder}/{yt_id}_no_vocals.wav\", \n",
    "                \"audio_without_of\": f\"{ablation_results_folder}/{yt_id}_vocals.wav\",\n",
    "            }\n",
    "\n",
    "    return media_map"
   ]
  },
  {
   "cell_type": "code",
   "execution_count": null,
   "id": "97099ea0",
   "metadata": {},
   "outputs": [],
   "source": [
    "eval_dataset=\"/work/users/t/i/tis/VidMuse/egs/V2M20K/eval/data.jsonl\"\n",
    "output_folder=\"/work/users/t/i/tis/VidMuse/output/merged_audio_video\"\n",
    "media_map = load_media_map(eval_dataset, num_lines=10)\n",
    "\n",
    "for yt_id, paths in media_map.items():\n",
    "    video = paths[\"video\"]\n",
    "    audio_gt = paths[\"audio_gt\"]\n",
    "    audio_gen = paths[\"audio_gen\"]\n",
    "    audio_without_of = paths[\"audio_without_of\"]\n",
    "\n",
    "    # Merge the generated audio with the original video\n",
    "    output_path = f\"{output_folder}/{yt_id}\"\n",
    "    output_gt = f\"{output_path}_gt.mp4\"\n",
    "    output_gen = f\"{output_path}_gen.mp4\"\n",
    "    output_ablation = f\"{output_path}_without_of.mp4\"\n",
    "\n",
    "    to_merge = zip([audio_gt, audio_gen, audio_without_of], [\n",
    "        output_gt, output_gen, output_ablation])\n",
    "    \n",
    "    for audio, output in to_merge:\n",
    "        merge_audio_video(video, audio, output_gt)\n",
    "        print(f\"Merged {video} with {audio_gt} and stored here {output_gt}\")\n"
   ]
  }
 ],
 "metadata": {
  "kernelspec": {
   "display_name": "vidmuse",
   "language": "python",
   "name": "vidmuse"
  },
  "language_info": {
   "codemirror_mode": {
    "name": "ipython",
    "version": 3
   },
   "file_extension": ".py",
   "mimetype": "text/x-python",
   "name": "python",
   "nbconvert_exporter": "python",
   "pygments_lexer": "ipython3",
   "version": "3.9.21"
  }
 },
 "nbformat": 4,
 "nbformat_minor": 5
}
